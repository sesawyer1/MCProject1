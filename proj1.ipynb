{
 "cells": [
  {
   "cell_type": "code",
   "execution_count": 81,
   "metadata": {},
   "outputs": [],
   "source": [
    "import numpy as np\n",
    "import pandas as pd\n",
    "from ipywidgets import interact, interactive, HBox, VBox, IntSlider, FloatSlider, SelectionSlider, DatePicker, Button, Output, SelectMultiple, Dropdown\n",
    "from datetime import datetime\n",
    "from IPython.display import display"
   ]
  },
  {
   "cell_type": "code",
   "execution_count": 82,
   "metadata": {},
   "outputs": [
    {
     "name": "stdout",
     "output_type": "stream",
     "text": [
      "(8705, 19)\n",
      "(8705, 13)\n",
      "(8705, 21)\n"
     ]
    }
   ],
   "source": [
    "# Load data (3 csv)\n",
    "mid_cap = pd.read_csv(\"mid_cap.csv\")\n",
    "large_cap = pd.read_csv(\"large_cap.csv\")\n",
    "us_agg = pd.read_csv(\"us_agg.csv\")\n",
    "\n",
    "print(mid_cap.shape)\n",
    "print(large_cap.shape)\n",
    "print(us_agg.shape) # 50 funds total # 18+12+20"
   ]
  },
  {
   "cell_type": "code",
   "execution_count": 83,
   "metadata": {},
   "outputs": [],
   "source": [
    "# First column = dates = \"as_of\"\n",
    "df = (\n",
    "    mid_cap.merge(large_cap, on=\"as_of\", how=\"inner\")\n",
    "           .merge(us_agg, on=\"as_of\", how=\"inner\")\n",
    ")\n",
    "\n",
    "# ensure first column is properly formatted # datetime\n",
    "df['as_of'] = pd.to_datetime(df['as_of'], format='%m/%d/%Y')"
   ]
  },
  {
   "cell_type": "code",
   "execution_count": 84,
   "metadata": {},
   "outputs": [],
   "source": [
    "df.to_csv(\"combined_fund_list.csv\", index=False)"
   ]
  },
  {
   "cell_type": "markdown",
   "metadata": {},
   "source": [
    "### Computing Returns – All 50 Mutual Funds"
   ]
  },
  {
   "cell_type": "code",
   "execution_count": 85,
   "metadata": {},
   "outputs": [
    {
     "data": {
      "text/plain": [
       "(8340, 50)"
      ]
     },
     "execution_count": 85,
     "metadata": {},
     "output_type": "execute_result"
    }
   ],
   "source": [
    "df = df.sort_values(by='as_of', ascending=False) # Sort descending newest -> oldest\n",
    "\n",
    "prices = df.drop(columns='as_of') # Drop date col\n",
    "\n",
    "def compute_returns(tau):\n",
    "    tau = 365  # in yrs! 1,3 or 5 yrs\n",
    "    future_prices = prices.shift(tau)\n",
    "\n",
    "    returns = (future_prices - prices) / prices\n",
    "    returns = returns.dropna() # Drop rows w/ NaN\n",
    "    return returns\n",
    "\n",
    "r = compute_returns(365)\n",
    "r.shape"
   ]
  },
  {
   "cell_type": "markdown",
   "metadata": {},
   "source": [
    "### Computing Rolling Returns – All 50 Mutual Funds"
   ]
  },
  {
   "cell_type": "code",
   "execution_count": 86,
   "metadata": {},
   "outputs": [],
   "source": [
    "df = df.sort_values(by='as_of', ascending=False) # Sort descending newest -> oldest\n",
    "\n",
    "prices = df.drop(columns='as_of') # Drop date col\n",
    "\n",
    "tau = 365\n",
    "delta = 5 \n",
    "\n",
    "def compute_rolling_returns(tau,delta):\n",
    "    rolling_returns = []\n",
    "    T = len(prices)\n",
    "    for t in range(0, T - tau, delta):  \n",
    "        end_day = t + tau\n",
    "        p_t = prices.iloc[t]\n",
    "        p_end = prices.iloc[end_day]\n",
    "        r = (p_end - p_t) / p_t\n",
    "        rolling_returns.append(r)\n",
    "    return pd.DataFrame(rolling_returns)\n",
    "\n",
    "rolling_r = compute_rolling_returns(tau,delta)"
   ]
  },
  {
   "cell_type": "code",
   "execution_count": 87,
   "metadata": {},
   "outputs": [
    {
     "name": "stdout",
     "output_type": "stream",
     "text": [
      "T: 8705\n",
      "tau: 365\n",
      "delta: 5\n",
      "L_theory: 1668\n",
      "L_actual: 1668\n"
     ]
    }
   ],
   "source": [
    "# Verifying calculation is correct\n",
    "tau = 365\n",
    "delta = 5\n",
    "roll_r = compute_rolling_returns(tau, delta)\n",
    "\n",
    "T = len(prices)\n",
    "\n",
    "L_theoretical = (T - tau + 1) // delta\n",
    "L_actual = roll_r.shape[0]\n",
    "\n",
    "print(f\"T: {T}\")\n",
    "print(f\"tau: {tau}\")\n",
    "print(f\"delta: {delta}\")\n",
    "print(f\"L_theory: {L_theoretical}\")\n",
    "print(f\"L_actual: {L_actual}\")"
   ]
  },
  {
   "cell_type": "markdown",
   "metadata": {},
   "source": [
    "## Part 2: Function to compute historical distribution of mutual funds or portfolios"
   ]
  },
  {
   "cell_type": "code",
   "execution_count": 88,
   "metadata": {},
   "outputs": [],
   "source": [
    "combined_list = pd.read_csv(\"combined_fund_list.csv\")"
   ]
  },
  {
   "cell_type": "code",
   "execution_count": 89,
   "metadata": {},
   "outputs": [],
   "source": [
    "# check the formatting\n",
    "combined_list['as_of'] = pd.to_datetime(combined_list['as_of'], format='%Y-%m-%d')\n",
    "combined_list = combined_list.set_index('as_of')\n",
    "combined_list = combined_list.sort_index(ascending=True) # Sort descending newest -> oldest"
   ]
  },
  {
   "cell_type": "code",
   "execution_count": 90,
   "metadata": {},
   "outputs": [],
   "source": [
    "def historical_distribution(start_date, end_date, tau, d, delta, total_fund_list, selected_funds=None):\n",
    "    \"\"\"\n",
    "    start_date: start date (inclusive)\n",
    "    end_date: end date (inclusive)\n",
    "\n",
    "    tau: time horizon in years (1, 3, or 5)\n",
    "    delta: rolling period (30 for monthly)\n",
    "    d: number of mutual funds in portfolio\n",
    "\n",
    "    total_fund_list: list of all available mutual funds\n",
    "    selected_funds: optional list of funds to analyze\n",
    "    \"\"\"\n",
    "\n",
    "    # isolate the date region\n",
    "    filtered_total_funds_dates = total_fund_list.loc[start_date: end_date] \n",
    "\n",
    "    # check if any funds were selected, ensure that d total funds are selected\n",
    "    if selected_funds is not None:\n",
    "        if len(selected_funds) > d:\n",
    "            picked_funds = np.random.choice(selected_funds, d, replace=False).tolist()\n",
    "        else:\n",
    "            picked_funds = selected_funds\n",
    "    else:\n",
    "        picked_funds = []\n",
    "    \n",
    "    # if less than d funds provided, randomly select from the total fund list\n",
    "    funds_needed = d - len(picked_funds)\n",
    "    if funds_needed > 0:\n",
    "        all_funds = list(filtered_total_funds_dates.columns)\n",
    "        available_funds = list(set(all_funds) - set(picked_funds))\n",
    "        picked_funds += np.random.choice(available_funds, funds_needed, replace=False).tolist()\n",
    "    \n",
    "    print(f\"Selected funds: {picked_funds}\")\n",
    "\n",
    "    # isolate the selected funds\n",
    "    filtered_funds = filtered_total_funds_dates[picked_funds]\n",
    "    \n",
    "    # calculate the rolling returns\n",
    "    tau = int(tau * 252)  # convert years to days\n",
    "    returns = (filtered_funds.shift(-tau) - filtered_funds) / filtered_funds\n",
    "\n",
    "    # rolling periods L \n",
    "    L = int(np.floor(((total_fund_list.index.get_loc(end_date) - total_fund_list.index.get_loc(start_date) + 1) - tau + 1) / delta))\n",
    "\n",
    "    # calculate the rolling returns\n",
    "    rolling_returns = []\n",
    "\n",
    "    for i in range(L):\n",
    "        start_pos = i * delta\n",
    "        start_return = returns.iloc[start_pos]\n",
    "        rolling_returns.append(start_return)\n",
    "    \n",
    "    rolling_returns = pd.DataFrame(rolling_returns).dropna()\n",
    "\n",
    "    # combined returns\n",
    "    combined_returns = rolling_returns.mean(axis=1).dropna()\n",
    "    return combined_returns"
   ]
  },
  {
   "cell_type": "code",
   "execution_count": 91,
   "metadata": {},
   "outputs": [
    {
     "name": "stdout",
     "output_type": "stream",
     "text": [
      "Selected funds: ['B11293', 'B00774', 'B15709', 'B13835', 'B07347', 'B09833', 'B06850', 'B15191', 'B09417', 'B11505', 'B13104', 'B06096', 'B13177', 'B14867', 'B13086', 'B10612', 'B10749', 'B06753', 'B08385', 'B04841', 'B07223', 'B11222', 'B05011', 'B10363', 'B02390', 'B06061', 'B15851', 'B07245', 'B05548', 'B05350', 'B12997', 'B01157', 'B13135', 'B00241', 'B14965']\n"
     ]
    }
   ],
   "source": [
    "# Example usage\n",
    "test = historical_distribution(\n",
    "    start_date=\"2010-01-01\",\n",
    "    end_date=\"2015-01-01\",\n",
    "    tau=3,\n",
    "    d=35,\n",
    "    delta=14,\n",
    "    total_fund_list=combined_list,\n",
    "    selected_funds=['B11293', 'B00774', 'B15709', 'B13835', 'B07347', 'B09833']\n",
    ")"
   ]
  },
  {
   "cell_type": "markdown",
   "metadata": {},
   "source": [
    "Var/CVar Calculation\n",
    "\n",
    "Var: all the periods where the loss exceeds a value^percentile – with alpha% our value will not exceed this value\n",
    "\n",
    "interpretation: there's an alpha% chance of losing at least $Var, if that happens you expect to lose on average $CVar "
   ]
  },
  {
   "cell_type": "code",
   "execution_count": 92,
   "metadata": {},
   "outputs": [],
   "source": [
    "def var_cvar_calculation(returns, alpha, nSims, init_value=1000000):\n",
    "\n",
    "    # going to use bootstrap method to calculate so we can use the historical data instead of assuming a normal distribution\n",
    "\n",
    "    sampled_returns = np.random.choice(returns, size=nSims, replace=True)\n",
    "\n",
    "    # simulate end values/losses\n",
    "    simulated_end_values = init_value * (1 + sampled_returns)\n",
    "    losses = init_value - simulated_end_values\n",
    "\n",
    "    # calculate VaR and CVaR\n",
    "    sorted_losses = np.sort(losses)\n",
    "    var = np.percentile(sorted_losses, alpha * 100)\n",
    "    cvar = sorted_losses[sorted_losses >= var].mean()\n",
    "    return -var, -cvar\n"
   ]
  },
  {
   "cell_type": "code",
   "execution_count": 93,
   "metadata": {},
   "outputs": [
    {
     "name": "stdout",
     "output_type": "stream",
     "text": [
      "VaR: 418,457.86\n",
      "CVaR: 266,173.92\n"
     ]
    }
   ],
   "source": [
    "# Example usage\n",
    "var, cvar = var_cvar_calculation(test, 0.05, 10000)\n",
    "print(f\"VaR: {var:,.2f}\")\n",
    "print(f\"CVaR: {cvar:,.2f}\")"
   ]
  },
  {
   "cell_type": "markdown",
   "metadata": {},
   "source": [
    "Setup Dashboard"
   ]
  },
  {
   "cell_type": "code",
   "execution_count": null,
   "metadata": {},
   "outputs": [],
   "source": [
    "# dropdown pickers for all variables\n",
    "fund_list = combined_list.columns.tolist() # fund names \n",
    "\n",
    "tau_dropdown = Dropdown(options=[1, 3, 5], description='Investment Horizon (Years)', value=1, style={'description_width': 'initial'},\n",
    "    layout={'width': '400px'})\n",
    "delta_dropdown = Dropdown(options={'Daily': 1, 'Weekly': 5, 'Monthly': 22, 'Quarterly': 66}, value=22, description='Rolling Period:', style={'description_width': 'initial'},\n",
    "    layout={'width': '400px'})\n",
    "\n",
    "alpha_slider = FloatSlider(value=0.05, min=0.01, max=0.5, step = 0.01, description='Confidence Level:', style={'description_width': 'initial'},\n",
    "    layout={'width': '400px'})\n",
    "d_slider = IntSlider(value=5, min=1, max=50, step=1, description='Number of Funds:', style={'description_width': 'initial'},\n",
    "    layout={'width': '400px'})\n",
    "\n",
    "start_date_picker = DatePicker(description=\"Start Date:\", value=datetime(2010, 1, 1), min=datetime(2005, 12,31), max=datetime(2024, 12, 31))\n",
    "end_date_picker = DatePicker(description=\"End Date:\", value=datetime(2015, 1, 1), min=datetime(2005, 12,31), max=datetime(2024, 12, 31))\n",
    "\n",
    "fund_selection = SelectMultiple(options=fund_list, description=\"Select Funds (optional):\", rows=6, style={'description_width': 'initial'},\n",
    "    layout={'width': '400px'})\n",
    "\n",
    "submit_button = Button(description=\"Calculate VaR/CVaR\", button_style='primary')\n",
    "clear_button = Button(description=\"Clear Outputs\", button_style='danger', layout={'width':'auto'})\n",
    "output = Output()\n"
   ]
  },
  {
   "cell_type": "code",
   "execution_count": 95,
   "metadata": {},
   "outputs": [],
   "source": [
    "def clear_form(_):\n",
    "    start_date_picker.value = datetime(2010, 1, 1)\n",
    "    end_date_picker.value = datetime(2015, 1, 1)\n",
    "    d_slider.value = 5\n",
    "    tau_dropdown.value = 1\n",
    "    delta_dropdown.value = 22\n",
    "    alpha_slider.value = 0.05\n",
    "    fund_selection.value = ()\n",
    "    output.clear_output()\n",
    "\n",
    "clear_button.on_click(clear_form)"
   ]
  },
  {
   "cell_type": "code",
   "execution_count": 96,
   "metadata": {},
   "outputs": [],
   "source": [
    "# set the button click to calculate VaR/CVaR/historical distribution \n",
    "def on_click(b):\n",
    "    output.clear_output()\n",
    "    with output:\n",
    "        try:\n",
    "            selected_funds = list(fund_selection.value)\n",
    "            hist_dis = historical_distribution(start_date_picker.value.strftime('%Y-%m-%d'),\n",
    "                                               end_date_picker.value.strftime('%Y-%m-%d'),\n",
    "                                               tau=tau_dropdown.value,\n",
    "                                               d=d_slider.value,\n",
    "                                               delta=delta_dropdown.value,\n",
    "                                               total_fund_list=combined_list,\n",
    "                                               selected_funds=selected_funds)\n",
    "            var, cvar = var_cvar_calculation(hist_dis, alpha_slider.value, nSims=10000)\n",
    "            print(f\"VaR: ({(1 - alpha_slider.value) * 100:.0f}%): ${var:,.2f}\")\n",
    "            print(f\"CVaR: ({(1 - alpha_slider.value) * 100:.0f}%): ${cvar:,.2f}\")\n",
    "        except Exception as e:\n",
    "            print(f\"Error: {e}\")\n",
    "            print(\"Please check your inputs and try again.\")\n",
    "        \n",
    "submit_button.on_click(on_click)\n",
    "            "
   ]
  },
  {
   "cell_type": "code",
   "execution_count": 97,
   "metadata": {},
   "outputs": [
    {
     "data": {
      "application/vnd.jupyter.widget-view+json": {
       "model_id": "bf82c54c925a40938e8c88f413fe411c",
       "version_major": 2,
       "version_minor": 0
      },
      "text/plain": [
       "VBox(children=(HBox(children=(Dropdown(description='Investment Horizon (Years)', layout=Layout(width='400px'),…"
      ]
     },
     "metadata": {},
     "output_type": "display_data"
    }
   ],
   "source": [
    "# set the UI \n",
    "controls_Row = HBox([submit_button, clear_button])\n",
    "ui = VBox([\n",
    "    HBox([tau_dropdown, delta_dropdown, alpha_slider]),\n",
    "    HBox([d_slider]),\n",
    "    HBox([start_date_picker, end_date_picker]),\n",
    "    fund_selection,\n",
    "    controls_Row, \n",
    "    output\n",
    "], layout={\"height\": \"500px\", \"overflow_y\": \"auto\", \"padding\": \"10px\"})\n",
    "\n",
    "display(ui)"
   ]
  }
 ],
 "metadata": {
  "kernelspec": {
   "display_name": "MSFE",
   "language": "python",
   "name": "python3"
  },
  "language_info": {
   "codemirror_mode": {
    "name": "ipython",
    "version": 3
   },
   "file_extension": ".py",
   "mimetype": "text/x-python",
   "name": "python",
   "nbconvert_exporter": "python",
   "pygments_lexer": "ipython3",
   "version": "3.12.5"
  }
 },
 "nbformat": 4,
 "nbformat_minor": 2
}
